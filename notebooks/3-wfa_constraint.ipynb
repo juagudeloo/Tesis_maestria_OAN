{
 "cells": [
  {
   "cell_type": "markdown",
   "id": "bcbc73fc",
   "metadata": {},
   "source": [
    "# WFA constraint"
   ]
  },
  {
   "cell_type": "markdown",
   "id": "0530c0e9",
   "metadata": {},
   "source": [
    "## 1. Prerrequisites"
   ]
  },
  {
   "cell_type": "code",
   "execution_count": 1,
   "id": "5d37587f",
   "metadata": {},
   "outputs": [],
   "source": [
    "import numpy as np\n",
    "import torch\n",
    "import torch.nn as nn\n",
    "\n",
    "from scipy.interpolate import interp1d\n",
    "from torchinfo import summary\n",
    "from tqdm import tqdm\n",
    "import matplotlib.pyplot as plt\n",
    "\n",
    "import astropy.units as u\n",
    "from astropy.constants import c, e, m_e\n",
    "\n",
    "import sys\n",
    "sys.path.append('..')\n",
    "from modules_2.charge_data import DataCharger\n",
    "\n",
    "torch.manual_seed(0)\n",
    "device = torch.device('cuda' if torch.cuda.is_available() else 'cpu')\n"
   ]
  },
  {
   "cell_type": "markdown",
   "id": "4c1523b5",
   "metadata": {},
   "source": [
    "Import the MSCNN inversion model."
   ]
  },
  {
   "cell_type": "code",
   "execution_count": 2,
   "id": "e27148ff",
   "metadata": {},
   "outputs": [],
   "source": [
    "from modules_2.nn_inversion_model import MSCNNInversionModel\n",
    "mscnn_model = MSCNNInversionModel(scales=[1, 2, 3], in_channels=2, c1_filters=16, c2_filters=32, kernel_size=5, stride=1, padding=0, pool_size=2, n_linear_layers=4, output_features=3*21).to(device)\n"
   ]
  },
  {
   "cell_type": "markdown",
   "id": "df4f4911",
   "metadata": {},
   "source": [
    "And charge the data for testing."
   ]
  },
  {
   "cell_type": "code",
   "execution_count": 3,
   "id": "66a94e7c",
   "metadata": {},
   "outputs": [
    {
     "name": "stdout",
     "output_type": "stream",
     "text": [
      "Charging 3 files...\n",
      "Processing file: 080000\n"
     ]
    },
    {
     "name": "stderr",
     "output_type": "stream",
     "text": [
      "Mapping to optical depth atm parameter 0: 100%|██████████| 480/480 [00:06<00:00, 71.20it/s]\n",
      "Mapping to optical depth atm parameter 1: 100%|██████████| 480/480 [00:06<00:00, 70.94it/s]\n",
      "Mapping to optical depth atm parameter 2: 100%|██████████| 480/480 [00:06<00:00, 70.95it/s]\n",
      "Applying LSF: 100%|██████████| 2/2 [00:00<00:00,  2.06it/s]\n",
      "Resampling wavelengths: 100%|██████████| 2/2 [00:04<00:00,  2.39s/it]\n",
      "Adding noise: 100%|██████████| 480/480 [00:02<00:00, 166.79it/s]\n"
     ]
    },
    {
     "name": "stdout",
     "output_type": "stream",
     "text": [
      "Processing file: 081000\n"
     ]
    },
    {
     "name": "stderr",
     "output_type": "stream",
     "text": [
      "Mapping to optical depth atm parameter 0: 100%|██████████| 480/480 [00:06<00:00, 70.71it/s]\n",
      "Mapping to optical depth atm parameter 1: 100%|██████████| 480/480 [00:06<00:00, 71.13it/s]\n",
      "Mapping to optical depth atm parameter 2: 100%|██████████| 480/480 [00:06<00:00, 71.33it/s]\n",
      "Applying LSF: 100%|██████████| 2/2 [00:00<00:00,  2.08it/s]\n",
      "Resampling wavelengths: 100%|██████████| 2/2 [00:04<00:00,  2.32s/it]\n",
      "Adding noise: 100%|██████████| 480/480 [00:02<00:00, 166.87it/s]\n"
     ]
    },
    {
     "name": "stdout",
     "output_type": "stream",
     "text": [
      "Processing file: 082000\n"
     ]
    },
    {
     "name": "stderr",
     "output_type": "stream",
     "text": [
      "Mapping to optical depth atm parameter 0: 100%|██████████| 480/480 [00:06<00:00, 71.13it/s]\n",
      "Mapping to optical depth atm parameter 1: 100%|██████████| 480/480 [00:06<00:00, 71.01it/s]\n",
      "Mapping to optical depth atm parameter 2: 100%|██████████| 480/480 [00:06<00:00, 71.19it/s]\n",
      "Applying LSF: 100%|██████████| 2/2 [00:00<00:00,  2.05it/s]\n",
      "Resampling wavelengths: 100%|██████████| 2/2 [00:04<00:00,  2.38s/it]\n",
      "Adding noise: 100%|██████████| 480/480 [00:02<00:00, 166.40it/s]\n"
     ]
    },
    {
     "name": "stdout",
     "output_type": "stream",
     "text": [
      "Data charging completed!\n",
      "Stokes reshaped: (691200, 2, 112)\n",
      "MuRAM reshaped: (691200, 63)\n",
      "WFA B_LOS reshaped: (691200, 1)\n",
      "Best MuRAM B reshaped: (691200, 1)\n",
      "torch.Size([3, 2, 112])\n"
     ]
    }
   ],
   "source": [
    "# Import the DataCharger class\n",
    "import sys\n",
    "sys.path.append('../modules_2')\n",
    "from charge_data import DataCharger\n",
    "\n",
    "# Example usage with multiple files\n",
    "filenames = [\"080000\", \"081000\", \"082000\"]  # Add more filenames as needed\n",
    "\n",
    "# Initialize the DataCharger\n",
    "data_charger = DataCharger(\n",
    "    data_path=\"/scratchsan/observatorio/juagudeloo/data\",\n",
    "    filenames=filenames,\n",
    "    nx=480,\n",
    "    ny=480,\n",
    "    nz=256\n",
    ")\n",
    "\n",
    "data_charger.charge_all_files()\n",
    "stokes_data, muram_data, wfa_blos_minmax, best_muram_B_minmax  = data_charger.reshape_for_training()\n",
    "stokes_data = torch.tensor(stokes_data[:3], dtype=torch.float32).to(device)\n",
    "print(stokes_data.size())"
   ]
  },
  {
   "cell_type": "markdown",
   "id": "3373480a",
   "metadata": {},
   "source": [
    "## 2. WFA loss definition"
   ]
  },
  {
   "cell_type": "markdown",
   "id": "bdfd95bc",
   "metadata": {},
   "source": [
    "### 2.1 WFA $B_\\text{LOS}$"
   ]
  },
  {
   "cell_type": "markdown",
   "id": "ab6f5f5c",
   "metadata": {},
   "source": [
    "To first asses the definition of the WFA loss, we must create a function that calculates the $B_\\text{LOS}$ based on the Stokes parameters information."
   ]
  },
  {
   "cell_type": "code",
   "execution_count": 4,
   "id": "11629f7e",
   "metadata": {},
   "outputs": [],
   "source": [
    "def compute_wfa_blos_pixel(stokes_pixel: np.ndarray,\n",
    "                          ll: np.ndarray,\n",
    "                          start_ll: int,\n",
    "                          end_ll: int,\n",
    "                          llambda0: float,\n",
    "                          g: float,\n",
    "                          stokes_v_index: int):\n",
    "    \"\"\"\n",
    "    Estimate the line-of-sight magnetic field for a single pixel from Stokes profiles.\n",
    "    Args:\n",
    "    stokes_pixel: numpy.ndarray\n",
    "        2D array of Stokes profiles for a single pixel, shape (n_stokes, n_wl)\n",
    "    ll: numpy.ndarray\n",
    "        Wavelength axis in angstroms\n",
    "    start_ll: int\n",
    "        Index of the starting wavelength range\n",
    "    end_ll: int\n",
    "        Index of the ending wavelength range\n",
    "    llambda0: float\n",
    "        Rest wavelength in angstroms\n",
    "    g: float\n",
    "        Landé factor\n",
    "    stokes_v_index: int\n",
    "        Index of the Stokes V profile in the data\n",
    "    Returns:\n",
    "    astropy.units.Quantity\n",
    "        Line-of-sight magnetic field in Gauss\n",
    "    \"\"\"\n",
    "    wfa_constant = e.si / (4 * np.pi) / m_e / c\n",
    "    wfa_constant = wfa_constant.to(1 / u.G / u.Angstrom)\n",
    "    \n",
    "    # Calculate derivative of Stokes I with respect to wavelength\n",
    "    dI_dl = np.gradient(stokes_pixel[0, start_ll:end_ll]) / np.gradient(ll[start_ll:end_ll])\n",
    "    \n",
    "    # Get Stokes V for the wavelength range\n",
    "    V = stokes_pixel[stokes_v_index, start_ll:end_ll]\n",
    "    \n",
    "    # Set up least squares system\n",
    "    ND = len(V)\n",
    "    a = np.zeros([ND, 2])\n",
    "    a[:, 0] = dI_dl[:]\n",
    "    a[:, 1] = 1.0\n",
    "    b = V[:]\n",
    "    \n",
    "    # Solve least squares\n",
    "    p = np.linalg.pinv(a) @ b / dI_dl.unit if hasattr(dI_dl, 'unit') else np.linalg.pinv(a) @ b\n",
    "    \n",
    "    # Compute B_LOS\n",
    "    B = -p[0] * u.Angstrom / (wfa_constant * (llambda0)**2.0 * g)\n",
    "    \n",
    "    return B\n"
   ]
  },
  {
   "cell_type": "markdown",
   "id": "fef6c695",
   "metadata": {},
   "source": [
    "Calculate the $B_\\text{LOS}$ for each sample of the test stokes array."
   ]
  },
  {
   "cell_type": "code",
   "execution_count": 5,
   "id": "693c0a3c",
   "metadata": {},
   "outputs": [
    {
     "name": "stdout",
     "output_type": "stream",
     "text": [
      "Sample 0: B_LOS = 2.21 G\n",
      "Sample 1: B_LOS = -5.70 G\n",
      "Sample 2: B_LOS = -0.29 G\n"
     ]
    }
   ],
   "source": [
    "for i in range(stokes_data.size(0)):\n",
    "    stokes_pixel = stokes_data[i].cpu().numpy()\n",
    "    ll = data_charger.wl_hinode\n",
    "    start_ll = 20\n",
    "    end_ll = 60\n",
    "    llambda0 = 6301.5*u.Angstrom  # Example rest wavelength\n",
    "    g = 1.67  # Example Landé factor\n",
    "    stokes_v_index = 1  # Assuming Stokes V is at index 1 (stokes = norm_stokes_with_noise, ll = wl*u.Angstrom, start_ll = start_ll, end_ll = end_ll, llambda0 = llambda0, g = g, stokes_v_index = stokes_v_index)\n",
    "\n",
    "\n",
    "    B_los = compute_wfa_blos_pixel(stokes_pixel, ll, start_ll, end_ll, llambda0, g, stokes_v_index)\n",
    "    print(f\"Sample {i}: B_LOS = {B_los:.2f}\")"
   ]
  }
 ],
 "metadata": {
  "kernelspec": {
   "display_name": "pytorch_jupyter",
   "language": "python",
   "name": "python3"
  },
  "language_info": {
   "codemirror_mode": {
    "name": "ipython",
    "version": 3
   },
   "file_extension": ".py",
   "mimetype": "text/x-python",
   "name": "python",
   "nbconvert_exporter": "python",
   "pygments_lexer": "ipython3",
   "version": "3.12.2"
  }
 },
 "nbformat": 4,
 "nbformat_minor": 5
}
