{
 "cells": [
  {
   "cell_type": "code",
   "execution_count": null,
   "metadata": {},
   "outputs": [],
   "source": [
    "from torchinfo import summary\n",
    "import torch\n",
    "from torch import nn\n",
    "import sys\n",
    "sys.path.append(\"..\")\n",
    "from modules.nn_models import *"
   ]
  },
  {
   "cell_type": "code",
   "execution_count": null,
   "metadata": {},
   "outputs": [
    {
     "data": {
      "text/plain": [
       "CNN1DModel(\n",
       "  (simple_conv): Sequential(\n",
       "    (0): Conv1d(4, 72, kernel_size=(2,), stride=(1,), padding=(1,))\n",
       "    (1): ReLU()\n",
       "    (2): Conv1d(72, 144, kernel_size=(2,), stride=(1,), padding=(1,))\n",
       "    (3): ReLU()\n",
       "    (4): Conv1d(144, 288, kernel_size=(2,), stride=(1,), padding=(1,))\n",
       "    (5): ReLU()\n",
       "    (6): Conv1d(288, 576, kernel_size=(2,), stride=(1,), padding=(1,))\n",
       "    (7): ReLU()\n",
       "    (8): AdaptiveAvgPool1d(output_size=1)\n",
       "    (9): Flatten(start_dim=1, end_dim=-1)\n",
       "    (10): Dropout(p=0.5, inplace=False)\n",
       "    (11): Linear(in_features=576, out_features=120, bias=True)\n",
       "  )\n",
       ")"
      ]
     },
     "execution_count": 13,
     "metadata": {},
     "output_type": "execute_result"
    }
   ],
   "source": [
    "hu = 1024\n",
    "n_spec_points = 112\n",
    "\n",
    "simple_1dcnn = LinearModel(n_spec_points,6*20,hidden_units=72, signal_length=36).float()\n",
    "simple_1dcnn"
   ]
  },
  {
   "cell_type": "code",
   "execution_count": 14,
   "metadata": {},
   "outputs": [
    {
     "name": "stdout",
     "output_type": "stream",
     "text": [
      "========================================================================================================\n",
      "Layer (type (var_name))                  Kernel Shape     Output Shape     Param #          Mult-Adds\n",
      "========================================================================================================\n",
      "CNN1DModel (CNN1DModel)                  --               [1, 120]         --               --\n",
      "├─Sequential (simple_conv)               --               [1, 120]         --               --\n",
      "│    └─0.weight                          [72, 4, 2]                        ├─576\n",
      "│    └─0.bias                            [72]                              ├─72\n",
      "│    └─2.weight                          [144, 72, 2]                      ├─20,736\n",
      "│    └─2.bias                            [144]                             ├─144\n",
      "│    └─4.weight                          [288, 144, 2]                     ├─82,944\n",
      "│    └─4.bias                            [288]                             ├─288\n",
      "│    └─6.weight                          [576, 288, 2]                     ├─331,776\n",
      "│    └─6.bias                            [576]                             ├─576\n",
      "│    └─11.weight                         [120, 576]                        ├─69,120\n",
      "│    └─11.bias                           [120]                             └─120\n",
      "│    └─Conv1d (0)                        [2]              [1, 72, 37]      648              23,976\n",
      "│    │    └─weight                       [4, 72, 2]                        ├─576\n",
      "│    │    └─bias                         [72]                              └─72\n",
      "│    └─ReLU (1)                          --               [1, 72, 37]      --               --\n",
      "│    └─Conv1d (2)                        [2]              [1, 144, 38]     20,880           793,440\n",
      "│    │    └─weight                       [72, 144, 2]                      ├─20,736\n",
      "│    │    └─bias                         [144]                             └─144\n",
      "│    └─ReLU (3)                          --               [1, 144, 38]     --               --\n",
      "│    └─Conv1d (4)                        [2]              [1, 288, 39]     83,232           3,246,048\n",
      "│    │    └─weight                       [144, 288, 2]                     ├─82,944\n",
      "│    │    └─bias                         [288]                             └─288\n",
      "│    └─ReLU (5)                          --               [1, 288, 39]     --               --\n",
      "│    └─Conv1d (6)                        [2]              [1, 576, 40]     332,352          13,294,080\n",
      "│    │    └─weight                       [288, 576, 2]                     ├─331,776\n",
      "│    │    └─bias                         [576]                             └─576\n",
      "│    └─ReLU (7)                          --               [1, 576, 40]     --               --\n",
      "│    └─AdaptiveAvgPool1d (8)             --               [1, 576, 1]      --               --\n",
      "│    └─Flatten (9)                       --               [1, 576]         --               --\n",
      "│    └─Dropout (10)                      --               [1, 576]         --               --\n",
      "│    └─Linear (11)                       --               [1, 120]         69,240           69,240\n",
      "│    │    └─weight                       [576, 120]                        ├─69,120\n",
      "│    │    └─bias                         [120]                             └─120\n",
      "========================================================================================================\n",
      "Total params: 506,352\n",
      "Trainable params: 506,352\n",
      "Non-trainable params: 0\n",
      "Total mult-adds (Units.MEGABYTES): 17.43\n",
      "========================================================================================================\n",
      "Input size (MB): 0.00\n",
      "Forward/backward pass size (MB): 0.34\n",
      "Params size (MB): 2.03\n",
      "Estimated Total Size (MB): 2.37\n",
      "========================================================================================================\n",
      "========================================================================================================\n",
      "Layer (type (var_name))                  Kernel Shape     Output Shape     Param #          Mult-Adds\n",
      "========================================================================================================\n",
      "CNN1DModel (CNN1DModel)                  --               [1, 120]         --               --\n",
      "├─Sequential (simple_conv)               --               [1, 120]         --               --\n",
      "│    └─0.weight                          [72, 4, 2]                        ├─576\n",
      "│    └─0.bias                            [72]                              ├─72\n",
      "│    └─2.weight                          [144, 72, 2]                      ├─20,736\n",
      "│    └─2.bias                            [144]                             ├─144\n",
      "│    └─4.weight                          [288, 144, 2]                     ├─82,944\n",
      "│    └─4.bias                            [288]                             ├─288\n",
      "│    └─6.weight                          [576, 288, 2]                     ├─331,776\n",
      "│    └─6.bias                            [576]                             ├─576\n",
      "│    └─11.weight                         [120, 576]                        ├─69,120\n",
      "│    └─11.bias                           [120]                             └─120\n",
      "│    └─Conv1d (0)                        [2]              [1, 72, 37]      648              23,976\n",
      "│    │    └─weight                       [4, 72, 2]                        ├─576\n",
      "│    │    └─bias                         [72]                              └─72\n",
      "│    └─ReLU (1)                          --               [1, 72, 37]      --               --\n",
      "│    └─Conv1d (2)                        [2]              [1, 144, 38]     20,880           793,440\n",
      "│    │    └─weight                       [72, 144, 2]                      ├─20,736\n",
      "│    │    └─bias                         [144]                             └─144\n",
      "│    └─ReLU (3)                          --               [1, 144, 38]     --               --\n",
      "│    └─Conv1d (4)                        [2]              [1, 288, 39]     83,232           3,246,048\n",
      "│    │    └─weight                       [144, 288, 2]                     ├─82,944\n",
      "│    │    └─bias                         [288]                             └─288\n",
      "│    └─ReLU (5)                          --               [1, 288, 39]     --               --\n",
      "│    └─Conv1d (6)                        [2]              [1, 576, 40]     332,352          13,294,080\n",
      "│    │    └─weight                       [288, 576, 2]                     ├─331,776\n",
      "│    │    └─bias                         [576]                             └─576\n",
      "│    └─ReLU (7)                          --               [1, 576, 40]     --               --\n",
      "│    └─AdaptiveAvgPool1d (8)             --               [1, 576, 1]      --               --\n",
      "│    └─Flatten (9)                       --               [1, 576]         --               --\n",
      "│    └─Dropout (10)                      --               [1, 576]         --               --\n",
      "│    └─Linear (11)                       --               [1, 120]         69,240           69,240\n",
      "│    │    └─weight                       [576, 120]                        ├─69,120\n",
      "│    │    └─bias                         [120]                             └─120\n",
      "========================================================================================================\n",
      "Total params: 506,352\n",
      "Trainable params: 506,352\n",
      "Non-trainable params: 0\n",
      "Total mult-adds (Units.MEGABYTES): 17.43\n",
      "========================================================================================================\n",
      "Input size (MB): 0.00\n",
      "Forward/backward pass size (MB): 0.34\n",
      "Params size (MB): 2.03\n",
      "Estimated Total Size (MB): 2.37\n",
      "========================================================================================================\n"
     ]
    }
   ],
   "source": [
    "print(summary(model = simple_1dcnn,\n",
    "        input_size=(1,4,36),\n",
    "        dtypes=[torch.float],\n",
    "        verbose=2,\n",
    "        col_width=16,\n",
    "        col_names=[\"kernel_size\", \"output_size\", \"num_params\", \"mult_adds\"],\n",
    "        row_settings=[\"var_names\"],\n",
    "        ))"
   ]
  }
 ],
 "metadata": {
  "kernelspec": {
   "display_name": "machine_learning",
   "language": "python",
   "name": "python3"
  },
  "language_info": {
   "codemirror_mode": {
    "name": "ipython",
    "version": 3
   },
   "file_extension": ".py",
   "mimetype": "text/x-python",
   "name": "python",
   "nbconvert_exporter": "python",
   "pygments_lexer": "ipython3",
   "version": "3.13.1"
  }
 },
 "nbformat": 4,
 "nbformat_minor": 2
}
