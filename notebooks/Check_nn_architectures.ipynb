{
 "cells": [
  {
   "cell_type": "code",
   "execution_count": 50,
   "metadata": {},
   "outputs": [],
   "source": [
    "from torchinfo import summary\n",
    "import torch\n",
    "from torch import nn\n",
    "import sys\n",
    "sys.path.append(\"..\")\n",
    "from modules.nn_models import *"
   ]
  },
  {
   "cell_type": "code",
   "execution_count": 51,
   "metadata": {},
   "outputs": [
    {
     "data": {
      "text/plain": [
       "SimpleLinearModel(\n",
       "  (simple_model): Sequential(\n",
       "    (0): Linear(in_features=144, out_features=4096, bias=True)\n",
       "    (1): ReLU()\n",
       "    (2): Linear(in_features=4096, out_features=120, bias=True)\n",
       "  )\n",
       ")"
      ]
     },
     "execution_count": 51,
     "metadata": {},
     "output_type": "execute_result"
    }
   ],
   "source": [
    "simple_linear = SimpleLinearModel(36*4,6*20,hidden_units=4096).float()\n",
    "simple_linear"
   ]
  },
  {
   "cell_type": "code",
   "execution_count": 52,
   "metadata": {},
   "outputs": [
    {
     "name": "stdout",
     "output_type": "stream",
     "text": [
      "========================================================================================================\n",
      "Layer (type (var_name))                  Kernel Shape     Output Shape     Param #          Mult-Adds\n",
      "========================================================================================================\n",
      "SimpleLinearModel (SimpleLinearModel)    --               [1, 120]         --               --\n",
      "├─Sequential (simple_model)              --               [1, 120]         --               --\n",
      "│    └─0.weight                          [4096, 144]                       ├─589,824\n",
      "│    └─0.bias                            [4096]                            ├─4,096\n",
      "│    └─2.weight                          [120, 4096]                       ├─491,520\n",
      "│    └─2.bias                            [120]                             └─120\n",
      "│    └─Linear (0)                        --               [1, 4096]        593,920          593,920\n",
      "│    │    └─weight                       [144, 4096]                       ├─589,824\n",
      "│    │    └─bias                         [4096]                            └─4,096\n",
      "│    └─ReLU (1)                          --               [1, 4096]        --               --\n",
      "│    └─Linear (2)                        --               [1, 120]         491,640          491,640\n",
      "│    │    └─weight                       [4096, 120]                       ├─491,520\n",
      "│    │    └─bias                         [120]                             └─120\n",
      "========================================================================================================\n",
      "Total params: 1,085,560\n",
      "Trainable params: 1,085,560\n",
      "Non-trainable params: 0\n",
      "Total mult-adds (Units.MEGABYTES): 1.09\n",
      "========================================================================================================\n",
      "Input size (MB): 0.00\n",
      "Forward/backward pass size (MB): 0.03\n",
      "Params size (MB): 4.34\n",
      "Estimated Total Size (MB): 4.38\n",
      "========================================================================================================\n",
      "========================================================================================================\n",
      "Layer (type (var_name))                  Kernel Shape     Output Shape     Param #          Mult-Adds\n",
      "========================================================================================================\n",
      "SimpleLinearModel (SimpleLinearModel)    --               [1, 120]         --               --\n",
      "├─Sequential (simple_model)              --               [1, 120]         --               --\n",
      "│    └─0.weight                          [4096, 144]                       ├─589,824\n",
      "│    └─0.bias                            [4096]                            ├─4,096\n",
      "│    └─2.weight                          [120, 4096]                       ├─491,520\n",
      "│    └─2.bias                            [120]                             └─120\n",
      "│    └─Linear (0)                        --               [1, 4096]        593,920          593,920\n",
      "│    │    └─weight                       [144, 4096]                       ├─589,824\n",
      "│    │    └─bias                         [4096]                            └─4,096\n",
      "│    └─ReLU (1)                          --               [1, 4096]        --               --\n",
      "│    └─Linear (2)                        --               [1, 120]         491,640          491,640\n",
      "│    │    └─weight                       [4096, 120]                       ├─491,520\n",
      "│    │    └─bias                         [120]                             └─120\n",
      "========================================================================================================\n",
      "Total params: 1,085,560\n",
      "Trainable params: 1,085,560\n",
      "Non-trainable params: 0\n",
      "Total mult-adds (Units.MEGABYTES): 1.09\n",
      "========================================================================================================\n",
      "Input size (MB): 0.00\n",
      "Forward/backward pass size (MB): 0.03\n",
      "Params size (MB): 4.34\n",
      "Estimated Total Size (MB): 4.38\n",
      "========================================================================================================\n"
     ]
    }
   ],
   "source": [
    "print(summary(model = simple_linear,\n",
    "        input_size=(1,36*4),\n",
    "        dtypes=[torch.float],\n",
    "        verbose=2,\n",
    "        col_width=16,\n",
    "        col_names=[\"kernel_size\", \"output_size\", \"num_params\", \"mult_adds\"],\n",
    "        row_settings=[\"var_names\"],\n",
    "        ))"
   ]
  }
 ],
 "metadata": {
  "kernelspec": {
   "display_name": "Python 3",
   "language": "python",
   "name": "python3"
  },
  "language_info": {
   "codemirror_mode": {
    "name": "ipython",
    "version": 3
   },
   "file_extension": ".py",
   "mimetype": "text/x-python",
   "name": "python",
   "nbconvert_exporter": "python",
   "pygments_lexer": "ipython3",
   "version": "3.12.2"
  }
 },
 "nbformat": 4,
 "nbformat_minor": 2
}
