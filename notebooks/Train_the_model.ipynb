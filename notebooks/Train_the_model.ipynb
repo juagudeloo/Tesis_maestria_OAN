{
 "cells": [
  {
   "cell_type": "markdown",
   "id": "a8aa388a-3153-4b7a-b0e0-caff0afb2bb9",
   "metadata": {},
   "source": [
    "# Training a neural network model"
   ]
  },
  {
   "cell_type": "markdown",
   "id": "34e8b6b3-4b1f-45d0-8c14-1fe3574251c3",
   "metadata": {},
   "source": [
    "## 1. Importing necessary libraries"
   ]
  },
  {
   "cell_type": "markdown",
   "id": "d3cb38a8",
   "metadata": {},
   "source": [
    "\\begin{equation}\n",
    "    [ \\text{Output size} = \\left\\lfloor \\frac{\\text{Input size} - \\text{Kernel size} + 2 \\times \\text{Padding}}{\\text{Stride}} \\right\\rfloor + 1 ]\n",
    "\\end{equation}"
   ]
  },
  {
   "cell_type": "markdown",
   "id": "496c81c8-68c1-4115-9bd3-acd2ce85061e",
   "metadata": {},
   "source": [
    "First, we will import the necessary libraries from python to define our neural network models and other small processes."
   ]
  },
  {
   "cell_type": "code",
   "execution_count": 47,
   "id": "aac13c9e-e7f8-4dd0-a838-d3c4112432a6",
   "metadata": {},
   "outputs": [],
   "source": [
    "import os\n",
    "from pathlib import Path\n",
    "import sys\n",
    "\n",
    "import time\n",
    "from timeit import default_timer as timer \n",
    "import datetime\n",
    "\n",
    "from sklearn.model_selection import train_test_split\n",
    "\n",
    "import torch\n",
    "from torch import nn\n",
    "from torch.utils.data import TensorDataset, DataLoader\n",
    "\n",
    "import numpy as np\n",
    "\n",
    "from tqdm import tqdm\n",
    "\n",
    "import matplotlib.pyplot as plt\n"
   ]
  },
  {
   "cell_type": "markdown",
   "id": "fe78eef3-e7f1-4821-af29-db9dd0344c69",
   "metadata": {},
   "source": [
    "Second, we will import a module that defines a class which will help us to upload the atmosphere quantities and the stokes parameters just as it was done in the notebook about [Charging the data](./Charging_the_data.ipynb])."
   ]
  },
  {
   "cell_type": "code",
   "execution_count": 2,
   "id": "b5051baa-cf90-4248-8e07-5730f629d106",
   "metadata": {},
   "outputs": [],
   "source": [
    "sys.path.append(\"../modules\")\n",
    "from ChargeData import MURaM"
   ]
  },
  {
   "cell_type": "markdown",
   "id": "45583ce9-38c7-4f9e-b483-6652c952cbd6",
   "metadata": {},
   "source": [
    "## 2. Dataset"
   ]
  },
  {
   "cell_type": "markdown",
   "id": "9170fb9c-3c30-4200-8a12-bc079fcb4fd2",
   "metadata": {},
   "source": [
    "### 3. Charge the data"
   ]
  },
  {
   "cell_type": "markdown",
   "id": "a7b03afd-a8ba-42b7-8a34-3385e068a301",
   "metadata": {},
   "source": [
    "Using the `MURaM` class we will charge the granular-intergranular leveraged data for various filenames."
   ]
  },
  {
   "cell_type": "code",
   "execution_count": 3,
   "id": "d8da7199-ec2d-42f7-a2bc-7394b1b484cf",
   "metadata": {},
   "outputs": [],
   "source": [
    "#filenames to be readed for creating the dataset\n",
    "filenames = [\"080000\", \"085000\", \"090000\"]"
   ]
  },
  {
   "cell_type": "markdown",
   "id": "b7bf8709-cc12-454c-82d2-1468cda32675",
   "metadata": {},
   "source": [
    "Let's concatenate all the files data to create a unified dataset of atmophere magnitudes with their corresponding stokes parameters spectra."
   ]
  },
  {
   "cell_type": "code",
   "execution_count": 4,
   "id": "9b4e3194-cbf1-452c-8b62-e5872066d03f",
   "metadata": {
    "collapsed": true,
    "jupyter": {
     "outputs_hidden": true
    }
   },
   "outputs": [
    {
     "name": "stdout",
     "output_type": "stream",
     "text": [
      "\n",
      "                ######################## \n",
      "                Reading 080000 MuRAM data...\n",
      "                ######################## \n",
      "                      \n",
      "Charging temperature ...\n",
      "mtpr shape: (58982400,)\n",
      "Charging magnetic field vector...\n",
      "mbxx shape: (58982400,)\n",
      "mbyy shape: (58982400,)\n",
      "mbzz shape: (58982400,)\n",
      "Charging density...\n",
      "mrho shape: (58982400,)\n",
      "Charge velocity...\n",
      "mvxx shape: (58982400,)\n",
      "mvyy shape: (58982400,)\n",
      "mvzz shape: (58982400,)\n",
      "\n",
      "                ######################## \n",
      "                Finished!\n",
      "                ######################## \n",
      "                      \n",
      "Modifying magnetic field components to fight azimuth ambiguity...\n",
      "Quantities modified!\n",
      "Creating atmosphere quantities array...\n",
      "Created!\n",
      "atm_quant shape: (480, 480, 256, 6)\n",
      "Charging stokes vectors...\n",
      "Charged!\n",
      "self.stokes shape (480, 480, 300, 4)\n",
      "Applying optical depth stratification...\n",
      "(480, 480, 20, 6)\n",
      "self.stokes degraded!\n",
      "The new self.stokes shape is: (480, 480, 36, 4)\n",
      " self.stokes:\n",
      "        I_max = 412528257732613.25\n",
      "        Q_max = 103074009374.81137\n",
      "        U_max = 35056941902.77085\n",
      "        V_max = 1974573168024.2239\n",
      "        I_min = 23441386696431.18\n",
      "        Q_min = -143268609482.05707\n",
      "        U_min = -143124518135.99756\n",
      "        V_min = -2065595378962.5303\n",
      "        \n",
      "\n",
      "        MAX VALUES:\n",
      "        mtpr max = 12312.816061127873\n",
      "        mrho max = 1.1635103186401182e-06\n",
      "        mbqq max = 487.7623270869893\n",
      "        mbuu max = 261.3680491689056\n",
      "        mbvv max = 471.1443671596016\n",
      "        mvyy max = 881866.1903469834\n",
      "            \n",
      "\n",
      "        MIN VALUES:\n",
      "        mtpr min = 4413.439568816388\n",
      "        mrho min = 6.610200715665868e-08\n",
      "        mbqq min = -387.8831218470229\n",
      "        mbuu min = -324.3338907927663\n",
      "        mbvv min = -436.2772025264331\n",
      "        mvyy min = -1375743.8677228198\n",
      "            \n",
      "Scaling the quantities...\n",
      "calculating the continuum...\n"
     ]
    },
    {
     "name": "stderr",
     "output_type": "stream",
     "text": [
      "100%|███████████████████████████████████████████████████████████████████████████████| 480/480 [03:50<00:00,  2.09it/s]\n"
     ]
    },
    {
     "name": "stdout",
     "output_type": "stream",
     "text": [
      "Scaled!\n",
      " self.stokes:\n",
      "        I_max = 1.0151412526843329\n",
      "        Q_max = 0.00030193287626227886\n",
      "        U_max = 0.00012123495722728421\n",
      "        V_max = 0.0062553962473152385\n",
      "        I_min = 0.07302341026566779\n",
      "        Q_min = -0.0006028875976268503\n",
      "        U_min = -0.00043127621439265665\n",
      "        V_min = -0.006981067202315485\n",
      "        \n",
      "\n",
      "        MAX VALUES:\n",
      "        mtpr max = 0.6156408030563937\n",
      "        mrho max = 0.11634219528596466\n",
      "        mbqq max = 0.581293721181165\n",
      "        mbuu max = 0.5435613415281509\n",
      "        mbvv max = 0.5785240611932669\n",
      "        mvyy max = 0.9409330951734917\n",
      "            \n",
      "\n",
      "        MIN VALUES:\n",
      "        mtpr min = 0.22067197844081937\n",
      "        mrho min = 0.0066002667183330515\n",
      "        mbqq min = 0.4353528130254962\n",
      "        mbuu min = 0.44594435153453893\n",
      "        mbvv min = 0.42728713291226117\n",
      "        mvyy min = -0.1878719338614099\n",
      "            \n",
      "leveraging...\n",
      "Done\n",
      "\n",
      "                ######################## \n",
      "                Reading 085000 MuRAM data...\n",
      "                ######################## \n",
      "                      \n",
      "Charging temperature ...\n",
      "mtpr shape: (58982400,)\n",
      "Charging magnetic field vector...\n",
      "mbxx shape: (58982400,)\n",
      "mbyy shape: (58982400,)\n",
      "mbzz shape: (58982400,)\n",
      "Charging density...\n",
      "mrho shape: (58982400,)\n",
      "Charge velocity...\n",
      "mvxx shape: (58982400,)\n",
      "mvyy shape: (58982400,)\n",
      "mvzz shape: (58982400,)\n",
      "\n",
      "                ######################## \n",
      "                Finished!\n",
      "                ######################## \n",
      "                      \n",
      "Modifying magnetic field components to fight azimuth ambiguity...\n",
      "Quantities modified!\n",
      "Creating atmosphere quantities array...\n",
      "Created!\n",
      "atm_quant shape: (480, 480, 256, 6)\n",
      "Charging stokes vectors...\n",
      "Charged!\n",
      "self.stokes shape (480, 480, 300, 4)\n",
      "Applying optical depth stratification...\n",
      "(480, 480, 20, 6)\n",
      "self.stokes degraded!\n",
      "The new self.stokes shape is: (480, 480, 36, 4)\n",
      " self.stokes:\n",
      "        I_max = 425297381314475.9\n",
      "        Q_max = 194325694683.1298\n",
      "        U_max = 191064939908.93198\n",
      "        V_max = 5542332525566.076\n",
      "        I_min = 20684104770653.668\n",
      "        Q_min = -199668559785.97253\n",
      "        U_min = -180837252046.0537\n",
      "        V_min = -4923253592989.493\n",
      "        \n",
      "\n",
      "        MAX VALUES:\n",
      "        mtpr max = 12259.69302961485\n",
      "        mrho max = 1.1973377551114863e-06\n",
      "        mbqq max = 646.2521733782936\n",
      "        mbuu max = 339.7751681238762\n",
      "        mbvv max = 941.0122271789601\n",
      "        mvyy max = 1042161.8924087981\n",
      "            \n",
      "\n",
      "        MIN VALUES:\n",
      "        mtpr min = 4398.172555780015\n",
      "        mrho min = 4.989367792087044e-08\n",
      "        mbqq min = -817.2302249545237\n",
      "        mbuu min = -478.80411677408875\n",
      "        mbvv min = -722.2216479102011\n",
      "        mvyy min = -1391942.4794842075\n",
      "            \n",
      "Scaling the quantities...\n",
      "calculating the continuum...\n"
     ]
    },
    {
     "name": "stderr",
     "output_type": "stream",
     "text": [
      "100%|███████████████████████████████████████████████████████████████████████████████| 480/480 [03:49<00:00,  2.09it/s]\n"
     ]
    },
    {
     "name": "stdout",
     "output_type": "stream",
     "text": [
      "Scaled!\n",
      " self.stokes:\n",
      "        I_max = 1.018891079197407\n",
      "        Q_max = 0.0005323636642847958\n",
      "        U_max = 0.0006641775698953012\n",
      "        V_max = 0.015721154659454655\n",
      "        I_min = 0.06018595241630229\n",
      "        Q_min = -0.0007176041274766205\n",
      "        U_min = -0.0006041295115994766\n",
      "        V_min = -0.01599709399398232\n",
      "        \n",
      "\n",
      "        MAX VALUES:\n",
      "        mtpr max = 0.6129846514807424\n",
      "        mrho max = 0.11972497276087622\n",
      "        mbqq max = 0.607708695563049\n",
      "        mbuu max = 0.5566291946873126\n",
      "        mbvv max = 0.6568353711964934\n",
      "        mvyy max = 1.021080946204399\n",
      "            \n",
      "\n",
      "        MIN VALUES:\n",
      "        mtpr min = 0.21990862778900072\n",
      "        mrho min = 0.004979417586262906\n",
      "        mbqq min = 0.36379496250757937\n",
      "        mbuu min = 0.4201993138709852\n",
      "        mbvv min = 0.3796297253482998\n",
      "        mvyy min = -0.19597123974210373\n",
      "            \n",
      "leveraging...\n",
      "Done\n",
      "\n",
      "                ######################## \n",
      "                Reading 090000 MuRAM data...\n",
      "                ######################## \n",
      "                      \n",
      "Charging temperature ...\n",
      "mtpr shape: (58982400,)\n",
      "Charging magnetic field vector...\n",
      "mbxx shape: (58982400,)\n",
      "mbyy shape: (58982400,)\n",
      "mbzz shape: (58982400,)\n",
      "Charging density...\n",
      "mrho shape: (58982400,)\n",
      "Charge velocity...\n",
      "mvxx shape: (58982400,)\n",
      "mvyy shape: (58982400,)\n",
      "mvzz shape: (58982400,)\n",
      "\n",
      "                ######################## \n",
      "                Finished!\n",
      "                ######################## \n",
      "                      \n",
      "Modifying magnetic field components to fight azimuth ambiguity...\n",
      "Quantities modified!\n",
      "Creating atmosphere quantities array...\n",
      "Created!\n",
      "atm_quant shape: (480, 480, 256, 6)\n",
      "Charging stokes vectors...\n",
      "Charged!\n",
      "self.stokes shape (480, 480, 300, 4)\n",
      "Applying optical depth stratification...\n",
      "(480, 480, 20, 6)\n",
      "self.stokes degraded!\n",
      "The new self.stokes shape is: (480, 480, 36, 4)\n",
      " self.stokes:\n",
      "        I_max = 401967101231163.94\n",
      "        Q_max = 640053537285.0363\n",
      "        U_max = 1453303270589.8752\n",
      "        V_max = 10155221200698.842\n",
      "        I_min = 20957168505038.543\n",
      "        Q_min = -906656062883.9861\n",
      "        U_min = -895350307350.6321\n",
      "        V_min = -8805044785720.814\n",
      "        \n",
      "\n",
      "        MAX VALUES:\n",
      "        mtpr max = 12207.113560636413\n",
      "        mrho max = 1.1733187994253973e-06\n",
      "        mbqq max = 924.8295099212805\n",
      "        mbuu max = 791.0449906193616\n",
      "        mbvv max = 1076.1241849865162\n",
      "        mvyy max = 1003002.7304306831\n",
      "            \n",
      "\n",
      "        MIN VALUES:\n",
      "        mtpr min = 4341.655807694781\n",
      "        mrho min = 6.326136167343133e-08\n",
      "        mbqq min = -996.6941743960148\n",
      "        mbuu min = -741.9800155186832\n",
      "        mbvv min = -1086.720970405402\n",
      "        mvyy min = -1364910.2974710504\n",
      "            \n",
      "Scaling the quantities...\n",
      "calculating the continuum...\n"
     ]
    },
    {
     "name": "stderr",
     "output_type": "stream",
     "text": [
      "100%|███████████████████████████████████████████████████████████████████████████████| 480/480 [03:46<00:00,  2.12it/s]\n"
     ]
    },
    {
     "name": "stdout",
     "output_type": "stream",
     "text": [
      "Scaled!\n",
      " self.stokes:\n",
      "        I_max = 1.0188554570950248\n",
      "        Q_max = 0.00270171351644989\n",
      "        U_max = 0.005175080545807864\n",
      "        V_max = 0.04057196993492922\n",
      "        I_min = 0.06729971785482608\n",
      "        Q_min = -0.003508525045067014\n",
      "        U_min = -0.0035662421732955475\n",
      "        V_min = -0.030785615249060008\n",
      "        \n",
      "\n",
      "        MAX VALUES:\n",
      "        mtpr max = 0.6103556780318207\n",
      "        mrho max = 0.11732305317307146\n",
      "        mbqq max = 0.6541382516535468\n",
      "        mbuu max = 0.6318408317698936\n",
      "        mbvv max = 0.679354030831086\n",
      "        mvyy max = 1.0015013652153415\n",
      "            \n",
      "\n",
      "        MIN VALUES:\n",
      "        mtpr min = 0.21708279038473907\n",
      "        mrho min = 0.006316199329336427\n",
      "        mbqq min = 0.3338843042673309\n",
      "        mbuu min = 0.3763366640802195\n",
      "        mbvv min = 0.3188798382657663\n",
      "        mvyy min = -0.1824551487355252\n",
      "            \n",
      "leveraging...\n",
      "Done\n"
     ]
    }
   ],
   "source": [
    "#Arrays for saving the whole dataset\n",
    "atm_data = []\n",
    "stokes_data = []\n",
    "\n",
    "for fln in filenames:\n",
    "    #Creation of the MURaM object for each filename for charging the data.\n",
    "    muram = MURaM(filename=fln)\n",
    "    muram.charge_quantities()\n",
    "    muram.optical_depth_stratification()\n",
    "    muram.degrade_spec_resol()\n",
    "    muram.scale_quantities()\n",
    "    muram.gran_intergran_balance()\n",
    "\n",
    "    atm_data.append(muram.atm_quant)\n",
    "    stokes_data.append(muram.stokes)\n",
    "\n",
    "atm_data = np.concatenate(atm_data, axis=0)\n",
    "stokes_data = np.concatenate(stokes_data, axis=0)\n",
    "    "
   ]
  },
  {
   "cell_type": "code",
   "execution_count": 5,
   "id": "1abf979b-fb00-4967-89e4-0853959e4474",
   "metadata": {},
   "outputs": [
    {
     "data": {
      "text/plain": [
       "((632010, 20, 6), (632010, 36, 4))"
      ]
     },
     "execution_count": 5,
     "metadata": {},
     "output_type": "execute_result"
    }
   ],
   "source": [
    "atm_data.shape, stokes_data.shape"
   ]
  },
  {
   "cell_type": "markdown",
   "id": "fee9df2e-858f-43bc-a89d-2f7f7f322c65",
   "metadata": {},
   "source": [
    "### 2.2 Training and testing sets"
   ]
  },
  {
   "cell_type": "markdown",
   "id": "0b638f0b-73d8-4994-94e5-9149265b5c2a",
   "metadata": {},
   "source": [
    "Once we have the data uploaded, we may need to separate it between training and testing sets for applying the data set to the neural network learning process. The train set will have a 70% size of the whole dataset while the test set will have a 30%."
   ]
  },
  {
   "cell_type": "code",
   "execution_count": 6,
   "id": "dafec501-61bb-4bb2-80ae-d5d88dacadf0",
   "metadata": {},
   "outputs": [],
   "source": [
    "in_train, in_test, out_train, out_test = train_test_split(stokes_data, atm_data, test_size=0.33, random_state=42)"
   ]
  },
  {
   "cell_type": "code",
   "execution_count": 7,
   "id": "d7ff55bd-6e03-4e0d-be4a-d3b0cbda9b3d",
   "metadata": {},
   "outputs": [
    {
     "name": "stdout",
     "output_type": "stream",
     "text": [
      "in_train shape: (423446, 36, 4)\n",
      "out_train shape: (423446, 20, 6)\n",
      "in_test shape: (208564, 36, 4)\n",
      "out_test shape: (208564, 20, 6)\n"
     ]
    }
   ],
   "source": [
    "print(\"in_train shape:\", in_train.shape)\n",
    "print(\"out_train shape:\", out_train.shape)\n",
    "print(\"in_test shape:\", in_test.shape)\n",
    "print(\"out_test shape:\", out_test.shape)"
   ]
  },
  {
   "cell_type": "markdown",
   "id": "54a6a294-e90e-46f5-8e6c-1623d189eadb",
   "metadata": {},
   "source": [
    "Having the test and train sets defined, let's charge them inside pytorch dataloaders for the training of the model."
   ]
  },
  {
   "cell_type": "code",
   "execution_count": 8,
   "id": "39f78fb3-2568-45a4-92f1-b9c86c838d00",
   "metadata": {},
   "outputs": [
    {
     "name": "stdout",
     "output_type": "stream",
     "text": [
      "Tensors stored in: cpu\n"
     ]
    },
    {
     "name": "stderr",
     "output_type": "stream",
     "text": [
      "/homes/observatorio/juagudeloo/.conda/envs/pytorch_jupyter/lib/python3.12/site-packages/torch/cuda/__init__.py:129: UserWarning: CUDA initialization: The NVIDIA driver on your system is too old (found version 11040). Please update your GPU driver by downloading and installing a new version from the URL: http://www.nvidia.com/Download/index.aspx Alternatively, go to: https://pytorch.org to install a PyTorch version that has been compiled with your version of the CUDA driver. (Triggered internally at /opt/conda/conda-bld/pytorch_1729647378361/work/c10/cuda/CUDAFunctions.cpp:108.)\n",
      "  return torch._C._cuda_getDeviceCount() > 0\n"
     ]
    }
   ],
   "source": [
    "# Setup device agnostic code\n",
    "device = \"cuda\" if torch.cuda.is_available() else \"cpu\"\n",
    "print(f\"Tensors stored in: {device}\")"
   ]
  },
  {
   "cell_type": "code",
   "execution_count": 9,
   "id": "b4a70b96-3dd5-4fe8-9708-3da20c40f448",
   "metadata": {},
   "outputs": [],
   "source": [
    "#Converting the test and train datasets to tensors\n",
    "in_train = torch.from_numpy(in_train).to(device)\n",
    "in_test = torch.from_numpy(in_test).to(device)\n",
    "out_train = torch.from_numpy(out_train).to(device)\n",
    "out_test = torch.from_numpy(out_test).to(device)"
   ]
  },
  {
   "cell_type": "code",
   "execution_count": 10,
   "id": "f37e0d08-6c16-4ed8-993a-e65ada56e1a8",
   "metadata": {},
   "outputs": [
    {
     "name": "stdout",
     "output_type": "stream",
     "text": [
      "in_train shape: torch.Size([423446, 36, 4])\n",
      "out_train shape: torch.Size([423446, 20, 6])\n",
      "in_test shape: torch.Size([208564, 36, 4])\n",
      "out_test shape: torch.Size([208564, 20, 6])\n"
     ]
    }
   ],
   "source": [
    "print(\"in_train shape:\", in_train.size())\n",
    "print(\"out_train shape:\", out_train.size())\n",
    "print(\"in_test shape:\", in_test.size())\n",
    "print(\"out_test shape:\", out_test.size())"
   ]
  },
  {
   "cell_type": "markdown",
   "id": "a1841d42-ffc5-41ac-9ccf-a773dcc059a4",
   "metadata": {},
   "source": [
    "Because the output of the neural network model we are going to use is linear, it is necessary to flatten the last two axis of the out datasets corresponding to the atmosphere magnitudes."
   ]
  },
  {
   "cell_type": "code",
   "execution_count": 11,
   "id": "880b14b6-7d66-4ab3-8cbb-36eb22cf1a88",
   "metadata": {},
   "outputs": [],
   "source": [
    "#Flattening of the output external axes\n",
    "out_train = torch.reshape(out_train, (out_train.size()[0], out_train.size()[1]*out_train.size()[2]))\n",
    "out_test = torch.reshape(out_test, (out_test.size()[0], out_test.size()[1]*out_test.size()[2]))"
   ]
  },
  {
   "cell_type": "code",
   "execution_count": 12,
   "id": "12346add-a58b-4368-be48-00cdeb35440c",
   "metadata": {},
   "outputs": [
    {
     "name": "stdout",
     "output_type": "stream",
     "text": [
      "in_train shape: torch.Size([423446, 36, 4])\n",
      "out_train shape: torch.Size([423446, 120])\n",
      "in_test shape: torch.Size([208564, 36, 4])\n",
      "out_test shape: torch.Size([208564, 120])\n"
     ]
    }
   ],
   "source": [
    "print(\"in_train shape:\", in_train.size())\n",
    "print(\"out_train shape:\", out_train.size())\n",
    "print(\"in_test shape:\", in_test.size())\n",
    "print(\"out_test shape:\", out_test.size())"
   ]
  },
  {
   "cell_type": "markdown",
   "id": "392d8f2a-78b4-40cf-93dc-ba6fb7ab1029",
   "metadata": {},
   "source": [
    "Finally, having both datasets converted to tensors, let's save them in their corresponding pytorch dataloaders. Here we will define the batch size hyperparameter for the training process."
   ]
  },
  {
   "cell_type": "code",
   "execution_count": 14,
   "id": "03b050f4-9967-4f60-8279-96f1844f2dd6",
   "metadata": {},
   "outputs": [
    {
     "name": "stdout",
     "output_type": "stream",
     "text": [
      "Length of train dataloader: 5294 batches of 80\n",
      "Length of test dataloader: 2608 batches of 80\n",
      "\n",
      "Shape of each batch input and output:\n",
      "train input batch shape: torch.Size([80, 36, 4]), \n",
      "train output batch shape: torch.Size([80, 120])\n",
      "        \n"
     ]
    }
   ],
   "source": [
    "#Batch size\n",
    "batch_size = 80\n",
    "\n",
    "#Train and test datasets\n",
    "train_dataset = TensorDataset(in_train.to(device), out_train.to(device))\n",
    "test_dataset = TensorDataset(in_test.to(device), out_test.to(device))\n",
    "\n",
    "#Train and test dataloaders\n",
    "train_dataloader = DataLoader(train_dataset,\n",
    "        batch_size=batch_size, # how many samples per batch? \n",
    "        shuffle=True # shuffle data every epoch?\n",
    ")\n",
    "\n",
    "test_dataloader = DataLoader(test_dataset,\n",
    "    batch_size=batch_size,\n",
    "    shuffle=False # don't necessarily have to shuffle the testing data\n",
    ")    \n",
    "\n",
    "print(f\"Length of train dataloader: {len(train_dataloader)} batches of {batch_size}\")\n",
    "print(f\"Length of test dataloader: {len(test_dataloader)} batches of {batch_size}\")\n",
    "train_features_batch, train_labels_batch = next(iter(train_dataloader))\n",
    "print(f\"\"\"\n",
    "Shape of each batch input and output:\n",
    "train input batch shape: {train_features_batch.shape}, \n",
    "train output batch shape: {train_labels_batch.shape}\n",
    "        \"\"\" )"
   ]
  },
  {
   "cell_type": "markdown",
   "id": "ad0f9edc-afe2-46af-b5ba-d09c86026c87",
   "metadata": {},
   "source": [
    "## 3. Neural network model"
   ]
  },
  {
   "cell_type": "markdown",
   "id": "3ddae808-7f84-4ba2-a968-8bd72206919f",
   "metadata": {},
   "source": [
    "Now that we have the datasets defined, let's create our neural network model. "
   ]
  },
  {
   "cell_type": "markdown",
   "id": "5b397f32-2643-41eb-a7f4-17cb6dd78701",
   "metadata": {},
   "source": [
    "### 3.1 Model creation"
   ]
  },
  {
   "cell_type": "markdown",
   "id": "0256bfde-a233-4887-95d8-74e465c044b7",
   "metadata": {},
   "source": [
    "First let's use a very simple convolutional 1D neural network arquitecture with a linear output."
   ]
  },
  {
   "cell_type": "code",
   "execution_count": 18,
   "id": "d7892891-bbde-499e-8a57-feff6c147039",
   "metadata": {},
   "outputs": [],
   "source": [
    "class SimpleModel(nn.Module):\n",
    "    def __init__(self, in_shape, out_shape, hidden_units):\n",
    "        super().__init__()\n",
    "        padding = 1\n",
    "        self.simple_conv = nn.Sequential(\n",
    "        nn.Conv1d(in_channels=in_shape, out_channels=72, kernel_size = 2, stride=1, padding=padding),\n",
    "        nn.ReLU(),\n",
    "        nn.Flatten(),\n",
    "        nn.Dropout(p=0.5, inplace=False),\n",
    "        nn.Linear(in_features = 360, out_features = out_shape)\n",
    "        )\n",
    "    def forward(self, x):\n",
    "        return self.simple_conv(x)\n",
    "\n",
    "model = SimpleModel(36,6*20,hidden_units=4096).float()"
   ]
  },
  {
   "cell_type": "markdown",
   "id": "2ea2eeb7-c940-454b-b176-6c923eb63367",
   "metadata": {},
   "source": [
    "It's important that the datasets and the model are both in the same device for performind the training."
   ]
  },
  {
   "cell_type": "code",
   "execution_count": 22,
   "id": "9f9fd618-d2f5-44eb-9177-682854462a15",
   "metadata": {},
   "outputs": [
    {
     "name": "stdout",
     "output_type": "stream",
     "text": [
      "\n",
      "The model will be runned in: cpu\n"
     ]
    },
    {
     "data": {
      "text/plain": [
       "SimpleModel(\n",
       "  (simple_conv): Sequential(\n",
       "    (0): Conv1d(36, 72, kernel_size=(2,), stride=(1,), padding=(1,))\n",
       "    (1): ReLU()\n",
       "    (2): Flatten(start_dim=1, end_dim=-1)\n",
       "    (3): Dropout(p=0.5, inplace=False)\n",
       "    (4): Linear(in_features=360, out_features=120, bias=True)\n",
       "  )\n",
       ")"
      ]
     },
     "execution_count": 22,
     "metadata": {},
     "output_type": "execute_result"
    }
   ],
   "source": [
    "print(\"\\nThe model will be runned in:\", device)\n",
    "model.to(device)"
   ]
  },
  {
   "cell_type": "markdown",
   "id": "7248a916-6612-4183-9304-9cf859e03e48",
   "metadata": {},
   "source": [
    "Define the model loss function and optimizer, along with the learning rate and epochs hyperparameters."
   ]
  },
  {
   "cell_type": "code",
   "execution_count": 52,
   "id": "1058331c-4788-41b7-aff3-03fcc314e947",
   "metadata": {},
   "outputs": [],
   "source": [
    "#Epochs\n",
    "epochs = 20\n",
    "\n",
    "#Learning rate\n",
    "lr = 1e-5\n",
    "\n",
    "#Loss function\n",
    "loss_fn = nn.MSELoss() # this is also called \"criterion\"/\"cost function\" in some places\n",
    "\n",
    "#Optimizer\n",
    "optimizer = torch.optim.Adam(params=model.parameters(), lr=lr)"
   ]
  },
  {
   "cell_type": "markdown",
   "id": "a69051b4-0571-41f6-91dd-757022b60fd8",
   "metadata": {},
   "source": [
    "We must write down the path for the model to save the results of the training along with the trained weights."
   ]
  },
  {
   "cell_type": "code",
   "execution_count": 53,
   "id": "18057d00-e578-4787-81c6-f589a236a4be",
   "metadata": {},
   "outputs": [],
   "source": [
    "results_out = \"Results/\"\n",
    "if not os.path.exists(results_out):\n",
    "    os.mkdir(results_out)\n",
    "    \n",
    "#Training folder for the specific hyperparameters\n",
    "pth_out = results_out+f\"{epochs}E_\"+f\"{lr}lr/\"\n",
    "if not os.path.exists(pth_out):\n",
    "    os.mkdir(pth_out)\n",
    "#Create model save path\n",
    "MODEL_PATH = Path(pth_out+\"model_weights/\")\n",
    "MODEL_PATH.mkdir(parents=True, exist_ok=True)\n",
    "MODEL_NAME = \"inversion_\"+str(epochs)+\"E\"+str(lr)+\"lr\"+\".pth\"\n",
    "MODEL_SAVE_PATH = MODEL_PATH / MODEL_NAME\n",
    "#Charge the weights in case there have been some training before\n",
    "if MODEL_SAVE_PATH.exists():\n",
    "    model.load_state_dict(torch.load(f=MODEL_SAVE_PATH))"
   ]
  },
  {
   "cell_type": "markdown",
   "id": "b09f619b-1e62-4b80-9308-5971821f97d8",
   "metadata": {},
   "source": [
    "### 3.2 Training the model"
   ]
  },
  {
   "cell_type": "markdown",
   "id": "aba40859-3fde-4689-b215-1aadeb5ee628",
   "metadata": {},
   "source": [
    "We have everything settled! Let's code the training process. First let's define functions for the training and testing."
   ]
  },
  {
   "cell_type": "code",
   "execution_count": 54,
   "id": "4fc0854f-8c09-4772-9151-bb5c04f67f07",
   "metadata": {
    "jupyter": {
     "source_hidden": true
    }
   },
   "outputs": [],
   "source": [
    "def train_step(model: nn.Module, train_dataloader: DataLoader, loss_fn, optimizer, device):\n",
    "    \"\"\"\n",
    "    Function that performs the training step over all the batches in the train dataloader.\n",
    "    \n",
    "    Args:\n",
    "        model(nn.Module): Model to be trained.\n",
    "        train_dataloader(torch.utils.data.Dataloader): Dataloader of the training dataset.\n",
    "        loss_fn: Loss function for the training process.\n",
    "        optimizer: Optimizer function for the training process.\n",
    "        device: Agnostic device defined por allocating the data and the model.\n",
    "    Returns:\n",
    "        None\n",
    "    \"\"\"\n",
    "    # Add a loop to loop through training batches\n",
    "    train_loss = 0\n",
    "\n",
    "    for batch, (X, y) in enumerate(train_dataloader):\n",
    "        model.train() \n",
    "        # 1. Forward pass\n",
    "        X, y = X.to(device), y.to(device)\n",
    "        y_pred = model.double()(X.double())\n",
    "\n",
    "        # 2. Calculate loss (per batch)\n",
    "        loss = loss_fn(y_pred.double(), y.double())\n",
    "        train_loss += loss # accumulatively add up the loss per epoch \n",
    "\n",
    "        # 3. Optimizer zero grad\n",
    "        optimizer.zero_grad()\n",
    "\n",
    "        # 4. Loss backward\n",
    "        loss.backward()\n",
    "\n",
    "        # 5. Optimizer step\n",
    "        optimizer.step()\n",
    "\n",
    "        # Print out how many samples have been seen\n",
    "        if batch % 400 == 0:\n",
    "            print(f\"Looked at {batch * len(X)}/{len(train_dataloader.dataset)} samples\")\n",
    "\n",
    "    # Divide total train loss by length of train dataloader (average loss per batch per epoch)\n",
    "    train_loss /= len(train_dataloader)\n",
    "\n",
    "    return train_loss\n",
    "\n",
    "def test_step(model: nn.Module, test_dataloader: DataLoader, loss_fn):\n",
    "    \"\"\"\n",
    "    Function that performs the testing step over the testin dataloader.\n",
    "    \n",
    "    Args:\n",
    "        model(nn.Module): Model to be tested.\n",
    "        test_dataloader(torch.utils.data.Dataloader): Dataloader of the testing dataset.\n",
    "        loss_fn: Loss function for the testing the model results.\n",
    "    Returns:\n",
    "        None\n",
    "    \"\"\"\n",
    "    # Setup variables for accumulatively adding up loss and accuracy \n",
    "    test_loss, test_acc = 0, 0 \n",
    "    model.eval()\n",
    "    with torch.inference_mode():\n",
    "        for X, y in test_dataloader:\n",
    "            # 1. Forward pass\n",
    "            test_pred = model(X)\n",
    "        \n",
    "            # 2. Calculate loss (accumatively)\n",
    "            test_loss += loss_fn(test_pred, y) # accumulatively add up the loss per epoch\n",
    "\n",
    "        # Calculations on test metrics need to happen inside torch.inference_mode()\n",
    "\n",
    "        # Divide total test loss by length of test dataloader (per batch)\n",
    "        test_loss /= len(test_dataloader)\n",
    "    \n",
    "    return test_loss\n",
    "\n",
    "def print_train_time(start: float, end: float, device: torch.device = None):\n",
    "    \"\"\"Prints difference between start and end time.\n",
    "\n",
    "    Args:\n",
    "        start (float): Start time of computation (preferred in timeit format). \n",
    "        end (float): End time of computation.\n",
    "        device ([type], optional): Device that compute is running on. Defaults to None.\n",
    "\n",
    "    Returns:\n",
    "        float: time between start and end in seconds (higher is longer).\n",
    "    \"\"\"\n",
    "    total_time = end - start\n",
    "    print(f\"Train time on {device}: {total_time:.3f} seconds\")\n",
    "    return total_time"
   ]
  },
  {
   "cell_type": "markdown",
   "id": "2b099f80-5a2d-4536-bdff-e422e7368b34",
   "metadata": {},
   "source": [
    "Let's train!"
   ]
  },
  {
   "cell_type": "code",
   "execution_count": 55,
   "id": "dd71b3a7-bf02-49c7-b394-22fb6597029b",
   "metadata": {},
   "outputs": [
    {
     "name": "stderr",
     "output_type": "stream",
     "text": [
      "  0%|                                                                                          | 0/20 [00:00<?, ?it/s]"
     ]
    },
    {
     "name": "stdout",
     "output_type": "stream",
     "text": [
      "Epoch: 0\n",
      "-------\n",
      "Looked at 0/423446 samples\n",
      "Looked at 32000/423446 samples\n",
      "Looked at 64000/423446 samples\n",
      "Looked at 96000/423446 samples\n",
      "Looked at 128000/423446 samples\n",
      "Looked at 160000/423446 samples\n",
      "Looked at 192000/423446 samples\n",
      "Looked at 224000/423446 samples\n",
      "Looked at 256000/423446 samples\n",
      "Looked at 288000/423446 samples\n",
      "Looked at 320000/423446 samples\n",
      "Looked at 352000/423446 samples\n",
      "Looked at 384000/423446 samples\n",
      "Looked at 416000/423446 samples\n"
     ]
    },
    {
     "name": "stderr",
     "output_type": "stream",
     "text": [
      "  5%|████                                                                              | 1/20 [00:22<07:16, 22.95s/it]"
     ]
    },
    {
     "name": "stdout",
     "output_type": "stream",
     "text": [
      "\n",
      "Train loss: 0.00142 | Test loss: 0.00125\n",
      "Train time on cpu: 22.947 seconds\n",
      "Saving model to: Results/20E_1e-05lr/model_weights/inversion_20E1e-05lr.pth\n",
      "Epoch: 1\n",
      "-------\n",
      "Looked at 0/423446 samples\n",
      "Looked at 32000/423446 samples\n",
      "Looked at 64000/423446 samples\n",
      "Looked at 96000/423446 samples\n",
      "Looked at 128000/423446 samples\n",
      "Looked at 160000/423446 samples\n",
      "Looked at 192000/423446 samples\n",
      "Looked at 224000/423446 samples\n",
      "Looked at 256000/423446 samples\n",
      "Looked at 288000/423446 samples\n",
      "Looked at 320000/423446 samples\n",
      "Looked at 352000/423446 samples\n",
      "Looked at 384000/423446 samples\n",
      "Looked at 416000/423446 samples\n"
     ]
    },
    {
     "name": "stderr",
     "output_type": "stream",
     "text": [
      " 10%|████████▏                                                                         | 2/20 [00:43<06:23, 21.31s/it]"
     ]
    },
    {
     "name": "stdout",
     "output_type": "stream",
     "text": [
      "\n",
      "Train loss: 0.00141 | Test loss: 0.00125\n",
      "Train time on cpu: 43.115 seconds\n",
      "Saving model to: Results/20E_1e-05lr/model_weights/inversion_20E1e-05lr.pth\n",
      "Epoch: 2\n",
      "-------\n",
      "Looked at 0/423446 samples\n",
      "Looked at 32000/423446 samples\n",
      "Looked at 64000/423446 samples\n",
      "Looked at 96000/423446 samples\n",
      "Looked at 128000/423446 samples\n",
      "Looked at 160000/423446 samples\n",
      "Looked at 192000/423446 samples\n",
      "Looked at 224000/423446 samples\n",
      "Looked at 256000/423446 samples\n",
      "Looked at 288000/423446 samples\n",
      "Looked at 320000/423446 samples\n",
      "Looked at 352000/423446 samples\n",
      "Looked at 384000/423446 samples\n",
      "Looked at 416000/423446 samples\n"
     ]
    },
    {
     "name": "stderr",
     "output_type": "stream",
     "text": [
      " 15%|████████████▎                                                                     | 3/20 [01:03<05:54, 20.83s/it]"
     ]
    },
    {
     "name": "stdout",
     "output_type": "stream",
     "text": [
      "\n",
      "Train loss: 0.00141 | Test loss: 0.00124\n",
      "Train time on cpu: 63.372 seconds\n",
      "Saving model to: Results/20E_1e-05lr/model_weights/inversion_20E1e-05lr.pth\n",
      "Epoch: 3\n",
      "-------\n",
      "Looked at 0/423446 samples\n",
      "Looked at 32000/423446 samples\n",
      "Looked at 64000/423446 samples\n",
      "Looked at 96000/423446 samples\n",
      "Looked at 128000/423446 samples\n",
      "Looked at 160000/423446 samples\n",
      "Looked at 192000/423446 samples\n",
      "Looked at 224000/423446 samples\n",
      "Looked at 256000/423446 samples\n",
      "Looked at 288000/423446 samples\n",
      "Looked at 320000/423446 samples\n",
      "Looked at 352000/423446 samples\n",
      "Looked at 384000/423446 samples\n",
      "Looked at 416000/423446 samples\n"
     ]
    },
    {
     "name": "stderr",
     "output_type": "stream",
     "text": [
      " 20%|████████████████▍                                                                 | 4/20 [01:23<05:29, 20.62s/it]"
     ]
    },
    {
     "name": "stdout",
     "output_type": "stream",
     "text": [
      "\n",
      "Train loss: 0.00141 | Test loss: 0.00124\n",
      "Train time on cpu: 83.669 seconds\n",
      "Saving model to: Results/20E_1e-05lr/model_weights/inversion_20E1e-05lr.pth\n",
      "Epoch: 4\n",
      "-------\n",
      "Looked at 0/423446 samples\n",
      "Looked at 32000/423446 samples\n",
      "Looked at 64000/423446 samples\n",
      "Looked at 96000/423446 samples\n",
      "Looked at 128000/423446 samples\n",
      "Looked at 160000/423446 samples\n",
      "Looked at 192000/423446 samples\n",
      "Looked at 224000/423446 samples\n",
      "Looked at 256000/423446 samples\n",
      "Looked at 288000/423446 samples\n",
      "Looked at 320000/423446 samples\n",
      "Looked at 352000/423446 samples\n",
      "Looked at 384000/423446 samples\n",
      "Looked at 416000/423446 samples\n"
     ]
    },
    {
     "name": "stderr",
     "output_type": "stream",
     "text": [
      " 25%|████████████████████▌                                                             | 5/20 [01:43<05:07, 20.48s/it]"
     ]
    },
    {
     "name": "stdout",
     "output_type": "stream",
     "text": [
      "\n",
      "Train loss: 0.00141 | Test loss: 0.00125\n",
      "Train time on cpu: 103.901 seconds\n",
      "Saving model to: Results/20E_1e-05lr/model_weights/inversion_20E1e-05lr.pth\n",
      "Epoch: 5\n",
      "-------\n",
      "Looked at 0/423446 samples\n",
      "Looked at 32000/423446 samples\n",
      "Looked at 64000/423446 samples\n",
      "Looked at 96000/423446 samples\n",
      "Looked at 128000/423446 samples\n",
      "Looked at 160000/423446 samples\n",
      "Looked at 192000/423446 samples\n",
      "Looked at 224000/423446 samples\n",
      "Looked at 256000/423446 samples\n",
      "Looked at 288000/423446 samples\n",
      "Looked at 320000/423446 samples\n",
      "Looked at 352000/423446 samples\n",
      "Looked at 384000/423446 samples\n",
      "Looked at 416000/423446 samples\n"
     ]
    },
    {
     "name": "stderr",
     "output_type": "stream",
     "text": [
      " 30%|████████████████████████▌                                                         | 6/20 [02:08<05:05, 21.80s/it]"
     ]
    },
    {
     "name": "stdout",
     "output_type": "stream",
     "text": [
      "\n",
      "Train loss: 0.00141 | Test loss: 0.00124\n",
      "Train time on cpu: 128.254 seconds\n",
      "Saving model to: Results/20E_1e-05lr/model_weights/inversion_20E1e-05lr.pth\n",
      "Epoch: 6\n",
      "-------\n",
      "Looked at 0/423446 samples\n",
      "Looked at 32000/423446 samples\n",
      "Looked at 64000/423446 samples\n",
      "Looked at 96000/423446 samples\n",
      "Looked at 128000/423446 samples\n",
      "Looked at 160000/423446 samples\n",
      "Looked at 192000/423446 samples\n",
      "Looked at 224000/423446 samples\n",
      "Looked at 256000/423446 samples\n",
      "Looked at 288000/423446 samples\n",
      "Looked at 320000/423446 samples\n",
      "Looked at 352000/423446 samples\n",
      "Looked at 384000/423446 samples\n",
      "Looked at 416000/423446 samples\n"
     ]
    },
    {
     "name": "stderr",
     "output_type": "stream",
     "text": [
      " 35%|████████████████████████████▋                                                     | 7/20 [02:29<04:41, 21.65s/it]"
     ]
    },
    {
     "name": "stdout",
     "output_type": "stream",
     "text": [
      "\n",
      "Train loss: 0.00141 | Test loss: 0.00125\n",
      "Train time on cpu: 149.603 seconds\n",
      "Saving model to: Results/20E_1e-05lr/model_weights/inversion_20E1e-05lr.pth\n",
      "Epoch: 7\n",
      "-------\n",
      "Looked at 0/423446 samples\n",
      "Looked at 32000/423446 samples\n",
      "Looked at 64000/423446 samples\n",
      "Looked at 96000/423446 samples\n",
      "Looked at 128000/423446 samples\n",
      "Looked at 160000/423446 samples\n",
      "Looked at 192000/423446 samples\n",
      "Looked at 224000/423446 samples\n",
      "Looked at 256000/423446 samples\n",
      "Looked at 288000/423446 samples\n",
      "Looked at 320000/423446 samples\n",
      "Looked at 352000/423446 samples\n",
      "Looked at 384000/423446 samples\n",
      "Looked at 416000/423446 samples\n"
     ]
    },
    {
     "name": "stderr",
     "output_type": "stream",
     "text": [
      " 40%|████████████████████████████████▊                                                 | 8/20 [02:50<04:18, 21.54s/it]"
     ]
    },
    {
     "name": "stdout",
     "output_type": "stream",
     "text": [
      "\n",
      "Train loss: 0.00141 | Test loss: 0.00124\n",
      "Train time on cpu: 170.898 seconds\n",
      "Saving model to: Results/20E_1e-05lr/model_weights/inversion_20E1e-05lr.pth\n",
      "Epoch: 8\n",
      "-------\n",
      "Looked at 0/423446 samples\n",
      "Looked at 32000/423446 samples\n",
      "Looked at 64000/423446 samples\n",
      "Looked at 96000/423446 samples\n",
      "Looked at 128000/423446 samples\n",
      "Looked at 160000/423446 samples\n",
      "Looked at 192000/423446 samples\n",
      "Looked at 224000/423446 samples\n",
      "Looked at 256000/423446 samples\n",
      "Looked at 288000/423446 samples\n",
      "Looked at 320000/423446 samples\n",
      "Looked at 352000/423446 samples\n",
      "Looked at 384000/423446 samples\n",
      "Looked at 416000/423446 samples\n"
     ]
    },
    {
     "name": "stderr",
     "output_type": "stream",
     "text": [
      " 45%|████████████████████████████████████▉                                             | 9/20 [03:11<03:55, 21.40s/it]"
     ]
    },
    {
     "name": "stdout",
     "output_type": "stream",
     "text": [
      "\n",
      "Train loss: 0.00141 | Test loss: 0.00125\n",
      "Train time on cpu: 191.994 seconds\n",
      "Saving model to: Results/20E_1e-05lr/model_weights/inversion_20E1e-05lr.pth\n",
      "Epoch: 9\n",
      "-------\n",
      "Looked at 0/423446 samples\n",
      "Looked at 32000/423446 samples\n",
      "Looked at 64000/423446 samples\n",
      "Looked at 96000/423446 samples\n",
      "Looked at 128000/423446 samples\n",
      "Looked at 160000/423446 samples\n",
      "Looked at 192000/423446 samples\n",
      "Looked at 224000/423446 samples\n",
      "Looked at 256000/423446 samples\n",
      "Looked at 288000/423446 samples\n",
      "Looked at 320000/423446 samples\n",
      "Looked at 352000/423446 samples\n",
      "Looked at 384000/423446 samples\n",
      "Looked at 416000/423446 samples\n"
     ]
    },
    {
     "name": "stderr",
     "output_type": "stream",
     "text": [
      " 50%|████████████████████████████████████████▌                                        | 10/20 [03:35<03:40, 22.07s/it]"
     ]
    },
    {
     "name": "stdout",
     "output_type": "stream",
     "text": [
      "\n",
      "Train loss: 0.00141 | Test loss: 0.00124\n",
      "Train time on cpu: 215.580 seconds\n",
      "Saving model to: Results/20E_1e-05lr/model_weights/inversion_20E1e-05lr.pth\n",
      "Epoch: 10\n",
      "-------\n",
      "Looked at 0/423446 samples\n",
      "Looked at 32000/423446 samples\n",
      "Looked at 64000/423446 samples\n",
      "Looked at 96000/423446 samples\n",
      "Looked at 128000/423446 samples\n",
      "Looked at 160000/423446 samples\n",
      "Looked at 192000/423446 samples\n",
      "Looked at 224000/423446 samples\n",
      "Looked at 256000/423446 samples\n",
      "Looked at 288000/423446 samples\n",
      "Looked at 320000/423446 samples\n",
      "Looked at 352000/423446 samples\n",
      "Looked at 384000/423446 samples\n",
      "Looked at 416000/423446 samples\n"
     ]
    },
    {
     "name": "stderr",
     "output_type": "stream",
     "text": [
      " 55%|████████████████████████████████████████████▌                                    | 11/20 [03:56<03:16, 21.81s/it]"
     ]
    },
    {
     "name": "stdout",
     "output_type": "stream",
     "text": [
      "\n",
      "Train loss: 0.00141 | Test loss: 0.00125\n",
      "Train time on cpu: 236.781 seconds\n",
      "Saving model to: Results/20E_1e-05lr/model_weights/inversion_20E1e-05lr.pth\n",
      "Epoch: 11\n",
      "-------\n",
      "Looked at 0/423446 samples\n",
      "Looked at 32000/423446 samples\n",
      "Looked at 64000/423446 samples\n",
      "Looked at 96000/423446 samples\n",
      "Looked at 128000/423446 samples\n",
      "Looked at 160000/423446 samples\n",
      "Looked at 192000/423446 samples\n",
      "Looked at 224000/423446 samples\n",
      "Looked at 256000/423446 samples\n",
      "Looked at 288000/423446 samples\n",
      "Looked at 320000/423446 samples\n",
      "Looked at 352000/423446 samples\n",
      "Looked at 384000/423446 samples\n",
      "Looked at 416000/423446 samples\n"
     ]
    },
    {
     "name": "stderr",
     "output_type": "stream",
     "text": [
      " 60%|████████████████████████████████████████████████▌                                | 12/20 [04:18<02:55, 21.93s/it]"
     ]
    },
    {
     "name": "stdout",
     "output_type": "stream",
     "text": [
      "\n",
      "Train loss: 0.00141 | Test loss: 0.00124\n",
      "Train time on cpu: 258.989 seconds\n",
      "Saving model to: Results/20E_1e-05lr/model_weights/inversion_20E1e-05lr.pth\n",
      "Epoch: 12\n",
      "-------\n",
      "Looked at 0/423446 samples\n",
      "Looked at 32000/423446 samples\n",
      "Looked at 64000/423446 samples\n",
      "Looked at 96000/423446 samples\n",
      "Looked at 128000/423446 samples\n",
      "Looked at 160000/423446 samples\n",
      "Looked at 192000/423446 samples\n",
      "Looked at 224000/423446 samples\n",
      "Looked at 256000/423446 samples\n",
      "Looked at 288000/423446 samples\n",
      "Looked at 320000/423446 samples\n",
      "Looked at 352000/423446 samples\n",
      "Looked at 384000/423446 samples\n",
      "Looked at 416000/423446 samples\n"
     ]
    },
    {
     "name": "stderr",
     "output_type": "stream",
     "text": [
      " 65%|████████████████████████████████████████████████████▋                            | 13/20 [04:40<02:32, 21.72s/it]"
     ]
    },
    {
     "name": "stdout",
     "output_type": "stream",
     "text": [
      "\n",
      "Train loss: 0.00141 | Test loss: 0.00124\n",
      "Train time on cpu: 280.217 seconds\n",
      "Saving model to: Results/20E_1e-05lr/model_weights/inversion_20E1e-05lr.pth\n",
      "Epoch: 13\n",
      "-------\n",
      "Looked at 0/423446 samples\n",
      "Looked at 32000/423446 samples\n",
      "Looked at 64000/423446 samples\n",
      "Looked at 96000/423446 samples\n",
      "Looked at 128000/423446 samples\n",
      "Looked at 160000/423446 samples\n",
      "Looked at 192000/423446 samples\n",
      "Looked at 224000/423446 samples\n",
      "Looked at 256000/423446 samples\n",
      "Looked at 288000/423446 samples\n",
      "Looked at 320000/423446 samples\n",
      "Looked at 352000/423446 samples\n",
      "Looked at 384000/423446 samples\n",
      "Looked at 416000/423446 samples\n"
     ]
    },
    {
     "name": "stderr",
     "output_type": "stream",
     "text": [
      " 70%|████████████████████████████████████████████████████████▋                        | 14/20 [05:01<02:09, 21.56s/it]"
     ]
    },
    {
     "name": "stdout",
     "output_type": "stream",
     "text": [
      "\n",
      "Train loss: 0.00141 | Test loss: 0.00124\n",
      "Train time on cpu: 301.402 seconds\n",
      "Saving model to: Results/20E_1e-05lr/model_weights/inversion_20E1e-05lr.pth\n",
      "Epoch: 14\n",
      "-------\n",
      "Looked at 0/423446 samples\n",
      "Looked at 32000/423446 samples\n",
      "Looked at 64000/423446 samples\n",
      "Looked at 96000/423446 samples\n",
      "Looked at 128000/423446 samples\n",
      "Looked at 160000/423446 samples\n",
      "Looked at 192000/423446 samples\n",
      "Looked at 224000/423446 samples\n",
      "Looked at 256000/423446 samples\n",
      "Looked at 288000/423446 samples\n",
      "Looked at 320000/423446 samples\n",
      "Looked at 352000/423446 samples\n",
      "Looked at 384000/423446 samples\n",
      "Looked at 416000/423446 samples\n"
     ]
    },
    {
     "name": "stderr",
     "output_type": "stream",
     "text": [
      " 75%|████████████████████████████████████████████████████████████▊                    | 15/20 [05:22<01:46, 21.35s/it]"
     ]
    },
    {
     "name": "stdout",
     "output_type": "stream",
     "text": [
      "\n",
      "Train loss: 0.00141 | Test loss: 0.00124\n",
      "Train time on cpu: 322.273 seconds\n",
      "Saving model to: Results/20E_1e-05lr/model_weights/inversion_20E1e-05lr.pth\n",
      "Epoch: 15\n",
      "-------\n",
      "Looked at 0/423446 samples\n",
      "Looked at 32000/423446 samples\n",
      "Looked at 64000/423446 samples\n",
      "Looked at 96000/423446 samples\n",
      "Looked at 128000/423446 samples\n",
      "Looked at 160000/423446 samples\n",
      "Looked at 192000/423446 samples\n",
      "Looked at 224000/423446 samples\n",
      "Looked at 256000/423446 samples\n",
      "Looked at 288000/423446 samples\n",
      "Looked at 320000/423446 samples\n",
      "Looked at 352000/423446 samples\n",
      "Looked at 384000/423446 samples\n",
      "Looked at 416000/423446 samples\n"
     ]
    },
    {
     "name": "stderr",
     "output_type": "stream",
     "text": [
      " 80%|████████████████████████████████████████████████████████████████▊                | 16/20 [05:43<01:24, 21.20s/it]"
     ]
    },
    {
     "name": "stdout",
     "output_type": "stream",
     "text": [
      "\n",
      "Train loss: 0.00141 | Test loss: 0.00124\n",
      "Train time on cpu: 343.121 seconds\n",
      "Saving model to: Results/20E_1e-05lr/model_weights/inversion_20E1e-05lr.pth\n",
      "Epoch: 16\n",
      "-------\n",
      "Looked at 0/423446 samples\n",
      "Looked at 32000/423446 samples\n",
      "Looked at 64000/423446 samples\n",
      "Looked at 96000/423446 samples\n",
      "Looked at 128000/423446 samples\n",
      "Looked at 160000/423446 samples\n",
      "Looked at 192000/423446 samples\n",
      "Looked at 224000/423446 samples\n",
      "Looked at 256000/423446 samples\n",
      "Looked at 288000/423446 samples\n",
      "Looked at 320000/423446 samples\n",
      "Looked at 352000/423446 samples\n",
      "Looked at 384000/423446 samples\n",
      "Looked at 416000/423446 samples\n"
     ]
    },
    {
     "name": "stderr",
     "output_type": "stream",
     "text": [
      " 85%|████████████████████████████████████████████████████████████████████▊            | 17/20 [06:10<01:09, 23.20s/it]"
     ]
    },
    {
     "name": "stdout",
     "output_type": "stream",
     "text": [
      "\n",
      "Train loss: 0.00141 | Test loss: 0.00124\n",
      "Train time on cpu: 370.979 seconds\n",
      "Saving model to: Results/20E_1e-05lr/model_weights/inversion_20E1e-05lr.pth\n",
      "Epoch: 17\n",
      "-------\n",
      "Looked at 0/423446 samples\n",
      "Looked at 32000/423446 samples\n",
      "Looked at 64000/423446 samples\n",
      "Looked at 96000/423446 samples\n",
      "Looked at 128000/423446 samples\n",
      "Looked at 160000/423446 samples\n",
      "Looked at 192000/423446 samples\n",
      "Looked at 224000/423446 samples\n",
      "Looked at 256000/423446 samples\n",
      "Looked at 288000/423446 samples\n",
      "Looked at 320000/423446 samples\n",
      "Looked at 352000/423446 samples\n",
      "Looked at 384000/423446 samples\n",
      "Looked at 416000/423446 samples\n"
     ]
    },
    {
     "name": "stderr",
     "output_type": "stream",
     "text": [
      " 90%|████████████████████████████████████████████████████████████████████████▉        | 18/20 [06:37<00:48, 24.21s/it]"
     ]
    },
    {
     "name": "stdout",
     "output_type": "stream",
     "text": [
      "\n",
      "Train loss: 0.00141 | Test loss: 0.00125\n",
      "Train time on cpu: 397.530 seconds\n",
      "Saving model to: Results/20E_1e-05lr/model_weights/inversion_20E1e-05lr.pth\n",
      "Epoch: 18\n",
      "-------\n",
      "Looked at 0/423446 samples\n",
      "Looked at 32000/423446 samples\n",
      "Looked at 64000/423446 samples\n",
      "Looked at 96000/423446 samples\n",
      "Looked at 128000/423446 samples\n",
      "Looked at 160000/423446 samples\n",
      "Looked at 192000/423446 samples\n",
      "Looked at 224000/423446 samples\n",
      "Looked at 256000/423446 samples\n",
      "Looked at 288000/423446 samples\n",
      "Looked at 320000/423446 samples\n",
      "Looked at 352000/423446 samples\n",
      "Looked at 384000/423446 samples\n",
      "Looked at 416000/423446 samples\n"
     ]
    },
    {
     "name": "stderr",
     "output_type": "stream",
     "text": [
      " 95%|████████████████████████████████████████████████████████████████████████████▉    | 19/20 [07:05<00:25, 25.48s/it]"
     ]
    },
    {
     "name": "stdout",
     "output_type": "stream",
     "text": [
      "\n",
      "Train loss: 0.00141 | Test loss: 0.00124\n",
      "Train time on cpu: 425.977 seconds\n",
      "Saving model to: Results/20E_1e-05lr/model_weights/inversion_20E1e-05lr.pth\n",
      "Epoch: 19\n",
      "-------\n",
      "Looked at 0/423446 samples\n",
      "Looked at 32000/423446 samples\n",
      "Looked at 64000/423446 samples\n",
      "Looked at 96000/423446 samples\n",
      "Looked at 128000/423446 samples\n",
      "Looked at 160000/423446 samples\n",
      "Looked at 192000/423446 samples\n",
      "Looked at 224000/423446 samples\n",
      "Looked at 256000/423446 samples\n",
      "Looked at 288000/423446 samples\n",
      "Looked at 320000/423446 samples\n",
      "Looked at 352000/423446 samples\n",
      "Looked at 384000/423446 samples\n",
      "Looked at 416000/423446 samples\n"
     ]
    },
    {
     "name": "stderr",
     "output_type": "stream",
     "text": [
      "100%|█████████████████████████████████████████████████████████████████████████████████| 20/20 [07:28<00:00, 22.40s/it]"
     ]
    },
    {
     "name": "stdout",
     "output_type": "stream",
     "text": [
      "\n",
      "Train loss: 0.00141 | Test loss: 0.00124\n",
      "Train time on cpu: 448.087 seconds\n",
      "Saving model to: Results/20E_1e-05lr/model_weights/inversion_20E1e-05lr.pth\n"
     ]
    },
    {
     "name": "stderr",
     "output_type": "stream",
     "text": [
      "\n"
     ]
    }
   ],
   "source": [
    "train_loss_history = np.zeros((epochs,))\n",
    "test_loss_history = np.zeros((epochs,))\n",
    "\n",
    "total_train_time_model = 0\n",
    "# Set timers\n",
    "train_time_start_on_cpu = timer()\n",
    "start = time.time()\n",
    "for epoch in tqdm(range(epochs)):\n",
    "    print(f\"Epoch: {epoch}\\n-------\")\n",
    "    ### Training\n",
    "    train_loss = train_step(model, train_dataloader, loss_fn, optimizer, device)\n",
    "    train_loss_history[epoch] = train_loss\n",
    "    \n",
    "    ### Testing)\n",
    "    test_loss = test_step(model, test_dataloader, loss_fn)\n",
    "    test_loss_history[epoch] = test_loss\n",
    "    \n",
    "    ## Print out what's happening\n",
    "    print(f\"\\nTrain loss: {train_loss:.5f} | Test loss: {test_loss:.5f}\")    \n",
    "\n",
    "    # Calculate training time      \n",
    "    train_time_end_on_cpu = timer()\n",
    "    total_train_time_model += print_train_time(start=train_time_start_on_cpu, \n",
    "                                            end=train_time_end_on_cpu,\n",
    "                                            device=str(next(model.parameters()).device))\n",
    "\n",
    "    # the model state dict after training\n",
    "    print(f\"Saving model to: {MODEL_SAVE_PATH}\")\n",
    "    torch.save(obj=model.state_dict(), # only saving the state_dict() only saves the models learned parameters\n",
    "            f=MODEL_SAVE_PATH)\n",
    "    \n",
    "metrics_out = pth_out+\"loss_metrics/\"\n",
    "if not os.path.exists(metrics_out):\n",
    "    os.mkdir(metrics_out)\n",
    "    \n",
    "train_loss_history_path = metrics_out+\"train_loss_history\"+str(epochs)+\"E\"+str(lr)+\"lr\"+\".npy\"\n",
    "test_loss_history_path = metrics_out+\"test_loss_history\"+str(epochs)+\"E\"+str(lr)+\"lr\"+\".npy\"\n",
    "\n",
    "np.save(train_loss_history_path, train_loss_history)\n",
    "np.save(test_loss_history_path, test_loss_history)\n",
    "\n",
    "runtime = time.time()-start\n",
    "with open(metrics_out+\"runtime.txt\", \"w\") as f:\n",
    "    f.write(str(datetime.timedelta(seconds=runtime)))\n"
   ]
  },
  {
   "cell_type": "markdown",
   "id": "b4be41a8-6624-43a7-a841-86df6eae4385",
   "metadata": {},
   "source": [
    "### 3.3 Looking up the metrics"
   ]
  },
  {
   "cell_type": "markdown",
   "id": "b5855f9b-1dc1-41de-ac8d-a4a5acb3808c",
   "metadata": {},
   "source": [
    "Let's check out the metrics on how the model got trained."
   ]
  },
  {
   "cell_type": "code",
   "execution_count": 56,
   "id": "ac2fb2ef-5a10-4ec7-b2f1-acf64cc5a176",
   "metadata": {},
   "outputs": [
    {
     "data": {
      "image/png": "[encoded data removed]",
      "text/plain": [
       "<Figure size 1000x500 with 2 Axes>"
      ]
     },
     "metadata": {},
     "output_type": "display_data"
    }
   ],
   "source": [
    "fig, ax = plt.subplots(1, 2, figsize=(2*5,5))\n",
    "epochs_a = range(epochs)\n",
    "\n",
    "ax[0].plot(epochs_a, train_loss_history)\n",
    "ax[0].set_yscale(\"log\")\n",
    "ax[0].set_xlabel(\"epochs\")\n",
    "ax[0].set_ylabel(\"Loss\")\n",
    "ax[0].set_title(\"Train\")\n",
    "ax[1].plot(epochs_a, test_loss_history)\n",
    "ax[1].set_yscale(\"log\")\n",
    "ax[1].set_xlabel(\"epochs\")\n",
    "ax[1].set_title(\"Train\")\n",
    "fig.tight_layout()"
   ]
  }
 ],
 "metadata": {
  "kernelspec": {
   "display_name": "Python 3",
   "language": "python",
   "name": "python3"
  },
  "language_info": {
   "codemirror_mode": {
    "name": "ipython",
    "version": 3
   },
   "file_extension": ".py",
   "mimetype": "text/x-python",
   "name": "python",
   "nbconvert_exporter": "python",
   "pygments_lexer": "ipython3",
   "version": "3.12.2"
  }
 },
 "nbformat": 4,
 "nbformat_minor": 5
}
